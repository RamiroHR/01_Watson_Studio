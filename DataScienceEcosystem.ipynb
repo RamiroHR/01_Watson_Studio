{
    "cells": [
        {
            "cell_type": "markdown",
            "metadata": {
                "collapsed": true
            },
            "source": "# Data Science Tools and Ecosystem"
        },
        {
            "cell_type": "markdown",
            "metadata": {},
            "source": "In this notebook, the main Data Science Tools and Ecosystem are summarized."
        },
        {
            "cell_type": "markdown",
            "metadata": {},
            "source": "**Objectives:**  \n* List popular languages for Data Science\n* List popular open source tools for Data Science\n* Use Markdown cell in jupyter notebook\n* Set, write & run code cells"
        },
        {
            "cell_type": "markdown",
            "metadata": {},
            "source": "Some of the popular languages that Data Scientists use are:\n1. Python\n2. R\n3. SQL\n4. Java\n5. C/C++\n6. Julia\n7. JavaScript\n8. Scala"
        },
        {
            "cell_type": "markdown",
            "metadata": {},
            "source": "Some of the commonly used libraries used by Data Scientists include:\n1. numpy\n2. pandas\n3. matplotlib\n4. seabron\n5. scipy\n6. scikitlearn"
        },
        {
            "cell_type": "markdown",
            "metadata": {},
            "source": " | Data Science Tools |\n |--------------------|\n |    Jupyter Lab     |\n |      R-studio      |\n |    Apache Spark    |"
        },
        {
            "cell_type": "markdown",
            "metadata": {},
            "source": "### Below are a few examples of evaluating arithmetic expressions in Python"
        },
        {
            "cell_type": "code",
            "execution_count": 3,
            "metadata": {},
            "outputs": [
                {
                    "data": {
                        "text/plain": "17"
                    },
                    "execution_count": 3,
                    "metadata": {},
                    "output_type": "execute_result"
                }
            ],
            "source": "# This is a simple arithmetic expression to mutiply then add integers:\n(3*4)+5"
        },
        {
            "cell_type": "code",
            "execution_count": 4,
            "metadata": {},
            "outputs": [
                {
                    "data": {
                        "text/plain": "3.3333333333333335"
                    },
                    "execution_count": 4,
                    "metadata": {},
                    "output_type": "execute_result"
                }
            ],
            "source": "# This will convert 200 minutes to hours by diving by 60\n200/60"
        },
        {
            "cell_type": "markdown",
            "metadata": {},
            "source": "## Author\nRamiro H. Rodriguez"
        },
        {
            "cell_type": "code",
            "execution_count": null,
            "metadata": {},
            "outputs": [],
            "source": ""
        }
    ],
    "metadata": {
        "kernelspec": {
            "display_name": "Python 3.10",
            "language": "python",
            "name": "python3"
        },
        "language_info": {
            "codemirror_mode": {
                "name": "ipython",
                "version": 3
            },
            "file_extension": ".py",
            "mimetype": "text/x-python",
            "name": "python",
            "nbconvert_exporter": "python",
            "pygments_lexer": "ipython3",
            "version": "3.10.9"
        }
    },
    "nbformat": 4,
    "nbformat_minor": 1
}